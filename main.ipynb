{
 "cells": [
  {
   "metadata": {},
   "cell_type": "markdown",
   "source": [
    "# Random Forest\n",
    "\n",
    "## I - Data set up"
   ],
   "id": "b4dc3c000855afe5"
  },
  {
   "metadata": {},
   "cell_type": "markdown",
   "source": "### 1) Package importation",
   "id": "8b987cc8386dba8e"
  },
  {
   "cell_type": "code",
   "id": "initial_id",
   "metadata": {
    "collapsed": true,
    "ExecuteTime": {
     "end_time": "2024-06-19T13:44:43.223547Z",
     "start_time": "2024-06-19T13:44:43.211258Z"
    }
   },
   "source": [
    "import pandas as pd\n",
    "import math"
   ],
   "outputs": [],
   "execution_count": 114
  },
  {
   "metadata": {},
   "cell_type": "markdown",
   "source": "### 2) Data loading",
   "id": "5398c7b93908407c"
  },
  {
   "metadata": {
    "ExecuteTime": {
     "end_time": "2024-06-19T13:44:43.439902Z",
     "start_time": "2024-06-19T13:44:43.295577Z"
    }
   },
   "cell_type": "code",
   "source": [
    "tennis_data = pd.read_csv('data.csv')\n",
    "print(tennis_data)"
   ],
   "id": "3c504572ea4f0ddf",
   "outputs": [
    {
     "name": "stdout",
     "output_type": "stream",
     "text": [
      "     Prévision Température Humidité    Vent Classe\n",
      "0   Ensoleillé       Chaud   Elevée  Faible    Non\n",
      "1   Ensoleillé       Chaud   Elevée    Fort    Non\n",
      "2      Nuageux       Chaud   Elevée  Faible    Oui\n",
      "3     Pluvieux       Moyen   Elevée  Faible    Oui\n",
      "4     Pluvieux       Frais  Normale  Faible    Oui\n",
      "5     Pluvieux       Frais  Normale    Fort    Non\n",
      "6      Nuageux       Frais  Normale    Fort    Oui\n",
      "7   Ensoleillé       Moyen   Elevée  Faible    Non\n",
      "8   Ensoleillé       Frais  Normale  Faible    Oui\n",
      "9     Pluvieux       Moyen  Normale  Faible    Oui\n",
      "10  Ensoleillé       Moyen  Normale    Fort    Oui\n",
      "11     Nuageux       Moyen   Elevée    Fort    Oui\n",
      "12     Nuageux       Chaud  Normale  Faible    Oui\n",
      "13    Pluvieux       Moyen   Elevée    Fort    Non\n"
     ]
    }
   ],
   "execution_count": 115
  },
  {
   "metadata": {},
   "cell_type": "markdown",
   "source": "### 3) Entropy calculation",
   "id": "9da3004b2e60af32"
  },
  {
   "metadata": {
    "ExecuteTime": {
     "end_time": "2024-06-19T13:44:43.623887Z",
     "start_time": "2024-06-19T13:44:43.439902Z"
    }
   },
   "cell_type": "code",
   "source": [
    "def calculate_entropy(data: pd.DataFrame, target_variable: str):\n",
    "    total_number = len(data)\n",
    "    target_counts = data[target_variable].value_counts()\n",
    "    entropy = 0\n",
    "    for target_value, count in target_counts.items():\n",
    "        entropy -= count/total_number * math.log(count/total_number, 2)\n",
    "    return entropy\n",
    "\n",
    "\n",
    "class_entropy = calculate_entropy(tennis_data, \"Classe\")\n",
    "print(class_entropy)"
   ],
   "id": "7d1190cf47379d7a",
   "outputs": [
    {
     "name": "stdout",
     "output_type": "stream",
     "text": [
      "0.9402859586706309\n"
     ]
    }
   ],
   "execution_count": 116
  },
  {
   "metadata": {},
   "cell_type": "markdown",
   "source": "### 4) Information gain calculation",
   "id": "c13f874b998b4fa5"
  },
  {
   "metadata": {
    "ExecuteTime": {
     "end_time": "2024-06-19T13:44:43.856819Z",
     "start_time": "2024-06-19T13:44:43.623887Z"
    }
   },
   "cell_type": "code",
   "source": [
    "def calculate_information_gain(data: pd.DataFrame, splitting_column: str, target_variable: str):\n",
    "    information_gain = calculate_entropy(data, target_variable)\n",
    "    data_groups = data.groupby(data[splitting_column])\n",
    "    for column_value, data_group in data_groups:\n",
    "        information_gain -= len(data_group)/len(data) * calculate_entropy(data_group, target_variable)\n",
    "    return information_gain\n",
    "\n",
    "\n",
    "for column in tennis_data.columns:\n",
    "    print(column)\n",
    "    print(calculate_information_gain(tennis_data, column, \"Classe\"))\n",
    "    print()"
   ],
   "id": "fa07389d9a9ea65",
   "outputs": [
    {
     "name": "stdout",
     "output_type": "stream",
     "text": [
      "Prévision\n",
      "0.2467498197744391\n",
      "\n",
      "Température\n",
      "0.029222565658954647\n",
      "\n",
      "Humidité\n",
      "0.15183550136234136\n",
      "\n",
      "Vent\n",
      "0.04812703040826932\n",
      "\n",
      "Classe\n",
      "0.9402859586706309\n",
      "\n"
     ]
    }
   ],
   "execution_count": 117
  },
  {
   "metadata": {},
   "cell_type": "markdown",
   "source": "### 5) Gini impurity calculation",
   "id": "25ee3a99ae0af51c"
  },
  {
   "metadata": {
    "ExecuteTime": {
     "end_time": "2024-06-19T13:44:44.011969Z",
     "start_time": "2024-06-19T13:44:43.856819Z"
    }
   },
   "cell_type": "code",
   "source": [
    "def calculate_gini_impurity(data: pd.DataFrame, target_variable: str):\n",
    "    gini_impurity = 1\n",
    "    total_number = len(data)\n",
    "    target_counts = data[target_variable].value_counts()\n",
    "    for target_value, count in target_counts.items():\n",
    "        gini_impurity -= math.pow(count/total_number, 2)\n",
    "    return gini_impurity\n",
    "\n",
    "\n",
    "print(calculate_gini_impurity(tennis_data, \"Classe\"))\n",
    "    "
   ],
   "id": "44c3401429e7f181",
   "outputs": [
    {
     "name": "stdout",
     "output_type": "stream",
     "text": [
      "0.4591836734693877\n"
     ]
    }
   ],
   "execution_count": 118
  },
  {
   "metadata": {},
   "cell_type": "markdown",
   "source": "### 6) Residual Gini impurity after division",
   "id": "4f89cf8248f3c194"
  },
  {
   "metadata": {
    "ExecuteTime": {
     "end_time": "2024-06-19T13:44:44.239705Z",
     "start_time": "2024-06-19T13:44:44.011969Z"
    }
   },
   "cell_type": "code",
   "source": [
    "def calculate_residual_gini_impurity(data: pd.DataFrame, splitting_column: str, target_variable: str):\n",
    "    residual_impurity = 0\n",
    "    data_groups = data.groupby(data[splitting_column])\n",
    "    for column_value, data_group in data_groups:\n",
    "        residual_impurity += len(data_group)/len(data) * calculate_gini_impurity(data_group, target_variable)\n",
    "    return residual_impurity\n",
    "\n",
    "\n",
    "for column in tennis_data.columns:\n",
    "    print(column)\n",
    "    print(calculate_residual_gini_impurity(tennis_data, column, \"Classe\"))\n",
    "    print()"
   ],
   "id": "ff83fc3446b5e953",
   "outputs": [
    {
     "name": "stdout",
     "output_type": "stream",
     "text": [
      "Prévision\n",
      "0.34285714285714286\n",
      "\n",
      "Température\n",
      "0.44047619047619047\n",
      "\n",
      "Humidité\n",
      "0.3673469387755103\n",
      "\n",
      "Vent\n",
      "0.42857142857142855\n",
      "\n",
      "Classe\n",
      "0.0\n",
      "\n"
     ]
    }
   ],
   "execution_count": 119
  },
  {
   "metadata": {},
   "cell_type": "markdown",
   "source": "### 7) Tree class",
   "id": "a154bdacaca56615"
  },
  {
   "metadata": {
    "ExecuteTime": {
     "end_time": "2024-06-19T13:44:44.462692Z",
     "start_time": "2024-06-19T13:44:44.296666Z"
    }
   },
   "cell_type": "code",
   "source": [
    "class TreeNode:\n",
    "    def __init__(self, decision_variable:str = None):\n",
    "        self._decision_variable = decision_variable\n",
    "        self._children = {}\n",
    "\n",
    "    @property\n",
    "    def decision_variable(self):\n",
    "        return self._decision_variable\n",
    "\n",
    "    @decision_variable.setter\n",
    "    def decision_variable(self, value):\n",
    "        self._decision_variable = value\n",
    "\n",
    "    @property\n",
    "    def children(self):\n",
    "        return self._children\n",
    "\n",
    "    @children.setter\n",
    "    def children(self, value):\n",
    "        self._children = value\n",
    "\n",
    "    def add_child(self, key, value):\n",
    "        self._children[key] = value\n",
    "        \n",
    "    def decide(self, row):\n",
    "        variable_value = row[self._decision_variable]\n",
    "        child = self._children[variable_value]\n",
    "        if isinstance(child, TreeNode):\n",
    "            return child.decide(row)\n",
    "        return child\n",
    "    \n",
    "    def id3_generate(self, data: pd.DataFrame, target_variable: str):\n",
    "        information_gains = [(column_name, calculate_information_gain(data, column_name, target_variable)) for column_name in data.columns if column_name != target_variable]\n",
    "        max_info_gain_column = max(information_gains, key=lambda x: x[1])[0]\n",
    "        self._decision_variable = max_info_gain_column\n",
    "        data_groups = data.groupby(data[max_info_gain_column])\n",
    "        for column_value, group in data_groups:\n",
    "            if calculate_entropy(group, target_variable) == 0:\n",
    "                self.add_child(column_value, group.iloc[0][target_variable])\n",
    "                continue\n",
    "            child_node = TreeNode()\n",
    "            child_node.id3_generate(group, target_variable)\n",
    "            self.add_child(column_value, child_node)\n",
    "    \n",
    "    def card_generate(self, data: pd.DataFrame, target_variable: str):\n",
    "        residual_impurities = [(column_name, calculate_residual_gini_impurity(data, column_name, target_variable)) for column_name in data if column_name != target_variable]\n",
    "        min_impurity_column = min(residual_impurities, key=lambda x: x[1])[0]\n",
    "        self._decision_variable = min_impurity_column\n",
    "        data_groups = data.groupby(data[min_impurity_column])\n",
    "        for column_value, group in data_groups:\n",
    "            if calculate_gini_impurity(group, target_variable) == 0:\n",
    "                self.add_child(column_value, group.iloc[0][target_variable])\n",
    "                continue\n",
    "            child_node = TreeNode()\n",
    "            child_node.card_generate(group, target_variable)\n",
    "            self.add_child(column_value, child_node)\n",
    "    \n",
    "    def print_node(self, node=None, space=''):\n",
    "        if node is None:\n",
    "            node = self\n",
    "        if node._decision_variable:\n",
    "            print(space + 'Decision Variable:', node._decision_variable)\n",
    "        for key, value in node._children.items():\n",
    "            if isinstance(value, TreeNode):\n",
    "                print(space + 'Key:', key)\n",
    "                value.print_node(value, space + '  ')\n",
    "            else:\n",
    "                print(space + 'Key:', key, 'Value:', value)\n",
    "\n",
    "\n",
    "class DecisionTree:\n",
    "    def __init__(self):\n",
    "        self._root = None\n",
    "    \n",
    "    @property\n",
    "    def root(self):\n",
    "        return self._root\n",
    "\n",
    "    @root.setter\n",
    "    def root(self, value):\n",
    "        self._root = value\n",
    "    \n",
    "    def decide(self, row: pd.Series):\n",
    "        return self._root.decide(row)\n",
    "    \n",
    "    def id3_generate(self, data: pd.DataFrame, target_variable: str):\n",
    "        self._root = TreeNode()\n",
    "        self._root.id3_generate(data, target_variable)\n",
    "        \n",
    "    def card_generate(self, data: pd.DataFrame, target_variable: str):\n",
    "        self._root = TreeNode()\n",
    "        self._root.card_generate(data, target_variable)"
   ],
   "id": "ce56921ffcb595cd",
   "outputs": [],
   "execution_count": 120
  },
  {
   "metadata": {},
   "cell_type": "markdown",
   "source": "#### a) Tree test class",
   "id": "5dec67ba75afb643"
  },
  {
   "metadata": {
    "ExecuteTime": {
     "end_time": "2024-06-19T13:44:44.669616Z",
     "start_time": "2024-06-19T13:44:44.465734Z"
    }
   },
   "cell_type": "code",
   "source": [
    "test_tree = DecisionTree()\n",
    "test_tree.root = TreeNode(\"Prévision\")\n",
    "\n",
    "humidity_node = TreeNode(\"Humidité\")\n",
    "humidity_node.add_child(\"Elevée\", \"Non\")\n",
    "humidity_node.add_child(\"Normale\", \"Oui\")\n",
    "\n",
    "wind_node = TreeNode(\"Vent\")\n",
    "wind_node.add_child(\"Fort\", \"Non\")\n",
    "wind_node.add_child(\"Faible\", \"Oui\")\n",
    "\n",
    "test_tree.root.add_child(\"Nuageux\", \"Oui\")\n",
    "test_tree.root.add_child(\n",
    "    \"Pluvieux\",\n",
    "    humidity_node\n",
    ")\n",
    "test_tree.root.add_child(\n",
    "    \"Ensoleillé\",\n",
    "    wind_node\n",
    ")\n",
    "\n",
    "test_tree.root.print_node()\n",
    "print()\n",
    "\n",
    "for data_index, data_row in tennis_data.iterrows():\n",
    "    print(data_index)\n",
    "    print(data_row)\n",
    "    print(test_tree.decide(data_row))\n",
    "    print()"
   ],
   "id": "1c87615fceed34b6",
   "outputs": [
    {
     "name": "stdout",
     "output_type": "stream",
     "text": [
      "Decision Variable: Prévision\n",
      "Key: Nuageux Value: Oui\n",
      "Key: Pluvieux\n",
      "  Decision Variable: Humidité\n",
      "  Key: Elevée Value: Non\n",
      "  Key: Normale Value: Oui\n",
      "Key: Ensoleillé\n",
      "  Decision Variable: Vent\n",
      "  Key: Fort Value: Non\n",
      "  Key: Faible Value: Oui\n",
      "\n",
      "0\n",
      "Prévision      Ensoleillé\n",
      "Température         Chaud\n",
      "Humidité           Elevée\n",
      "Vent               Faible\n",
      "Classe                Non\n",
      "Name: 0, dtype: object\n",
      "Oui\n",
      "\n",
      "1\n",
      "Prévision      Ensoleillé\n",
      "Température         Chaud\n",
      "Humidité           Elevée\n",
      "Vent                 Fort\n",
      "Classe                Non\n",
      "Name: 1, dtype: object\n",
      "Non\n",
      "\n",
      "2\n",
      "Prévision      Nuageux\n",
      "Température      Chaud\n",
      "Humidité        Elevée\n",
      "Vent            Faible\n",
      "Classe             Oui\n",
      "Name: 2, dtype: object\n",
      "Oui\n",
      "\n",
      "3\n",
      "Prévision      Pluvieux\n",
      "Température       Moyen\n",
      "Humidité         Elevée\n",
      "Vent             Faible\n",
      "Classe              Oui\n",
      "Name: 3, dtype: object\n",
      "Non\n",
      "\n",
      "4\n",
      "Prévision      Pluvieux\n",
      "Température       Frais\n",
      "Humidité        Normale\n",
      "Vent             Faible\n",
      "Classe              Oui\n",
      "Name: 4, dtype: object\n",
      "Oui\n",
      "\n",
      "5\n",
      "Prévision      Pluvieux\n",
      "Température       Frais\n",
      "Humidité        Normale\n",
      "Vent               Fort\n",
      "Classe              Non\n",
      "Name: 5, dtype: object\n",
      "Oui\n",
      "\n",
      "6\n",
      "Prévision      Nuageux\n",
      "Température      Frais\n",
      "Humidité       Normale\n",
      "Vent              Fort\n",
      "Classe             Oui\n",
      "Name: 6, dtype: object\n",
      "Oui\n",
      "\n",
      "7\n",
      "Prévision      Ensoleillé\n",
      "Température         Moyen\n",
      "Humidité           Elevée\n",
      "Vent               Faible\n",
      "Classe                Non\n",
      "Name: 7, dtype: object\n",
      "Oui\n",
      "\n",
      "8\n",
      "Prévision      Ensoleillé\n",
      "Température         Frais\n",
      "Humidité          Normale\n",
      "Vent               Faible\n",
      "Classe                Oui\n",
      "Name: 8, dtype: object\n",
      "Oui\n",
      "\n",
      "9\n",
      "Prévision      Pluvieux\n",
      "Température       Moyen\n",
      "Humidité        Normale\n",
      "Vent             Faible\n",
      "Classe              Oui\n",
      "Name: 9, dtype: object\n",
      "Oui\n",
      "\n",
      "10\n",
      "Prévision      Ensoleillé\n",
      "Température         Moyen\n",
      "Humidité          Normale\n",
      "Vent                 Fort\n",
      "Classe                Oui\n",
      "Name: 10, dtype: object\n",
      "Non\n",
      "\n",
      "11\n",
      "Prévision      Nuageux\n",
      "Température      Moyen\n",
      "Humidité        Elevée\n",
      "Vent              Fort\n",
      "Classe             Oui\n",
      "Name: 11, dtype: object\n",
      "Oui\n",
      "\n",
      "12\n",
      "Prévision      Nuageux\n",
      "Température      Chaud\n",
      "Humidité       Normale\n",
      "Vent            Faible\n",
      "Classe             Oui\n",
      "Name: 12, dtype: object\n",
      "Oui\n",
      "\n",
      "13\n",
      "Prévision      Pluvieux\n",
      "Température       Moyen\n",
      "Humidité         Elevée\n",
      "Vent               Fort\n",
      "Classe              Non\n",
      "Name: 13, dtype: object\n",
      "Non\n",
      "\n"
     ]
    }
   ],
   "execution_count": 121
  },
  {
   "metadata": {},
   "cell_type": "markdown",
   "source": "## II - ID3 Algorithm",
   "id": "3f5f2e7cd636e6c"
  },
  {
   "metadata": {
    "ExecuteTime": {
     "end_time": "2024-06-19T13:44:44.864823Z",
     "start_time": "2024-06-19T13:44:44.669616Z"
    }
   },
   "cell_type": "code",
   "source": [
    "id3_tree = DecisionTree()\n",
    "id3_tree.id3_generate(tennis_data, \"Classe\")\n",
    "id3_tree.root.print_node()"
   ],
   "id": "9644b001ad76fa2b",
   "outputs": [
    {
     "name": "stdout",
     "output_type": "stream",
     "text": [
      "Decision Variable: Prévision\n",
      "Key: Ensoleillé\n",
      "  Decision Variable: Humidité\n",
      "  Key: Elevée Value: Non\n",
      "  Key: Normale Value: Oui\n",
      "Key: Nuageux Value: Oui\n",
      "Key: Pluvieux\n",
      "  Decision Variable: Vent\n",
      "  Key: Faible Value: Oui\n",
      "  Key: Fort Value: Non\n"
     ]
    }
   ],
   "execution_count": 122
  },
  {
   "metadata": {
    "ExecuteTime": {
     "end_time": "2024-06-19T13:44:44.971328Z",
     "start_time": "2024-06-19T13:44:44.866327Z"
    }
   },
   "cell_type": "code",
   "source": [
    "print(tennis_data.loc[0])\n",
    "print()\n",
    "print(id3_tree.decide(tennis_data.loc[0]))"
   ],
   "id": "eadd1ed877b28854",
   "outputs": [
    {
     "name": "stdout",
     "output_type": "stream",
     "text": [
      "Prévision      Ensoleillé\n",
      "Température         Chaud\n",
      "Humidité           Elevée\n",
      "Vent               Faible\n",
      "Classe                Non\n",
      "Name: 0, dtype: object\n",
      "\n",
      "Non\n"
     ]
    }
   ],
   "execution_count": 123
  },
  {
   "metadata": {},
   "cell_type": "markdown",
   "source": "## III - CARD Algorithm",
   "id": "1495c5c5b66a6d76"
  },
  {
   "metadata": {
    "ExecuteTime": {
     "end_time": "2024-06-19T13:44:45.223056Z",
     "start_time": "2024-06-19T13:44:44.971328Z"
    }
   },
   "cell_type": "code",
   "source": [
    "card_tree = DecisionTree()\n",
    "card_tree.card_generate(tennis_data, \"Classe\")\n",
    "card_tree.root.print_node()"
   ],
   "id": "414c35a56d3f8814",
   "outputs": [
    {
     "name": "stdout",
     "output_type": "stream",
     "text": [
      "Decision Variable: Prévision\n",
      "Key: Ensoleillé\n",
      "  Decision Variable: Humidité\n",
      "  Key: Elevée Value: Non\n",
      "  Key: Normale Value: Oui\n",
      "Key: Nuageux Value: Oui\n",
      "Key: Pluvieux\n",
      "  Decision Variable: Vent\n",
      "  Key: Faible Value: Oui\n",
      "  Key: Fort Value: Non\n"
     ]
    }
   ],
   "execution_count": 124
  },
  {
   "metadata": {
    "ExecuteTime": {
     "end_time": "2024-06-19T13:44:45.432653Z",
     "start_time": "2024-06-19T13:44:45.223056Z"
    }
   },
   "cell_type": "code",
   "source": [
    "print(tennis_data.loc[0])\n",
    "print()\n",
    "print(card_tree.decide(tennis_data.loc[0]))"
   ],
   "id": "a7de27ce3569107",
   "outputs": [
    {
     "name": "stdout",
     "output_type": "stream",
     "text": [
      "Prévision      Ensoleillé\n",
      "Température         Chaud\n",
      "Humidité           Elevée\n",
      "Vent               Faible\n",
      "Classe                Non\n",
      "Name: 0, dtype: object\n",
      "\n",
      "Non\n"
     ]
    }
   ],
   "execution_count": 125
  },
  {
   "metadata": {},
   "cell_type": "markdown",
   "source": [
    "## IV - Random forest\n",
    "\n",
    "### 1) Random Forest class"
   ],
   "id": "d68a4fbc02b0e578"
  },
  {
   "metadata": {
    "ExecuteTime": {
     "end_time": "2024-06-19T13:44:45.620718Z",
     "start_time": "2024-06-19T13:44:45.432653Z"
    }
   },
   "cell_type": "code",
   "source": [
    "class RandomForest:\n",
    "    def __init__(self):\n",
    "        self._trees = []\n",
    "    \n",
    "    @property\n",
    "    def trees(self):\n",
    "        return self._trees\n",
    "    \n",
    "    def add_tree(self, tree: DecisionTree):\n",
    "        self._trees.append(tree)\n",
    "    \n",
    "    def decide(self, row: pd.Series):\n",
    "        answers = {}\n",
    "        for i in range(len(self._trees)):\n",
    "            try:\n",
    "                decision = self._trees[i].decide(row)\n",
    "                if decision in answers:\n",
    "                    answers[decision] += 1\n",
    "                else:\n",
    "                    answers[decision] = 1\n",
    "            except KeyError:\n",
    "                print(f\"Tree {i} couldn't decide\")\n",
    "        return max(answers, key=answers.get)\n",
    "    \n",
    "    def id3_generate(self, data: pd.DataFrame, target_variable: str, sample_percentage: float, tree_number: int):\n",
    "        for _ in range(tree_number):\n",
    "            data_sample = data.sample(frac=sample_percentage/100)\n",
    "            new_tree = DecisionTree()\n",
    "            new_tree.id3_generate(data_sample, target_variable)\n",
    "            self.add_tree(new_tree)\n",
    "    \n",
    "    def card_generate(self, data: pd.DataFrame, target_variable: str, sample_percentage: float, tree_number: int):\n",
    "        for _ in range(tree_number):\n",
    "            data_sample = data.sample(frac=sample_percentage/100)\n",
    "            new_tree = DecisionTree()\n",
    "            new_tree.card_generate(data_sample, target_variable)\n",
    "            self.add_tree(new_tree)"
   ],
   "id": "5785264226063d60",
   "outputs": [],
   "execution_count": 126
  },
  {
   "metadata": {},
   "cell_type": "markdown",
   "source": "### 2) ID3 random forest",
   "id": "bc3e2c0a43e10b58"
  },
  {
   "metadata": {
    "ExecuteTime": {
     "end_time": "2024-06-19T13:44:46.015392Z",
     "start_time": "2024-06-19T13:44:45.620718Z"
    }
   },
   "cell_type": "code",
   "source": [
    "id3_forest = RandomForest()\n",
    "id3_forest.id3_generate(tennis_data, \"Classe\", 75, 10)\n",
    "\n",
    "# Print the forest\n",
    "# for i in range(len(id3_forest.trees)):\n",
    "#     print(\"Tree\", i)\n",
    "#     id3_forest.trees[i].root.print_node()\n",
    "#     print()\n",
    "\n",
    "print(tennis_data.loc[2])\n",
    "print()\n",
    "print(f\"ID3 Forest decision: {id3_forest.decide(tennis_data.loc[2])}\")"
   ],
   "id": "53cdfa951fe9e865",
   "outputs": [
    {
     "name": "stdout",
     "output_type": "stream",
     "text": [
      "Prévision      Nuageux\n",
      "Température      Chaud\n",
      "Humidité        Elevée\n",
      "Vent            Faible\n",
      "Classe             Oui\n",
      "Name: 2, dtype: object\n",
      "\n",
      "Tree 0 couldn't decide\n",
      "ID3 Forest decision: Oui\n"
     ]
    }
   ],
   "execution_count": 127
  },
  {
   "metadata": {},
   "cell_type": "markdown",
   "source": "### 3) CARD random forest",
   "id": "569f272340669844"
  },
  {
   "metadata": {
    "ExecuteTime": {
     "end_time": "2024-06-19T13:44:46.258278Z",
     "start_time": "2024-06-19T13:44:46.015392Z"
    }
   },
   "cell_type": "code",
   "source": [
    "card_forest = RandomForest()\n",
    "card_forest.id3_generate(tennis_data, \"Classe\", 75, 10)\n",
    "\n",
    "# Print the forest\n",
    "# for i in range(len(card_forest.trees)):\n",
    "#     print(\"Tree\", i)\n",
    "#     card_forest.trees[i].root.print_node()\n",
    "#     print()\n",
    "\n",
    "print(tennis_data.loc[2])\n",
    "print()\n",
    "print(f\"CARD Forest decision: {card_forest.decide(tennis_data.loc[2])}\")"
   ],
   "id": "64fe14ae0b86fe2f",
   "outputs": [
    {
     "name": "stdout",
     "output_type": "stream",
     "text": [
      "Prévision      Nuageux\n",
      "Température      Chaud\n",
      "Humidité        Elevée\n",
      "Vent            Faible\n",
      "Classe             Oui\n",
      "Name: 2, dtype: object\n",
      "\n",
      "Tree 9 couldn't decide\n",
      "CARD Forest decision: Oui\n"
     ]
    }
   ],
   "execution_count": 128
  },
  {
   "metadata": {
    "ExecuteTime": {
     "end_time": "2024-06-19T13:44:46.264556Z",
     "start_time": "2024-06-19T13:44:46.258278Z"
    }
   },
   "cell_type": "code",
   "source": "",
   "id": "d2badfbccd6c0144",
   "outputs": [],
   "execution_count": 128
  }
 ],
 "metadata": {
  "kernelspec": {
   "display_name": "Python 3",
   "language": "python",
   "name": "python3"
  },
  "language_info": {
   "codemirror_mode": {
    "name": "ipython",
    "version": 2
   },
   "file_extension": ".py",
   "mimetype": "text/x-python",
   "name": "python",
   "nbconvert_exporter": "python",
   "pygments_lexer": "ipython2",
   "version": "2.7.6"
  }
 },
 "nbformat": 4,
 "nbformat_minor": 5
}
